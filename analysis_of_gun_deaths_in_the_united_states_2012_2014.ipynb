{
  "nbformat": 4,
  "nbformat_minor": 0,
  "metadata": {
    "kernelspec": {
      "display_name": "Python 3",
      "language": "python",
      "name": "python3"
    },
    "language_info": {
      "codemirror_mode": {
        "name": "ipython",
        "version": 3
      },
      "file_extension": ".py",
      "mimetype": "text/x-python",
      "name": "python",
      "nbconvert_exporter": "python",
      "pygments_lexer": "ipython3",
      "version": "3.7.6"
    },
    "colab": {
      "name": "analysis-of-gun-deaths-in-the-united-states-2012-2014.ipynb",
      "provenance": [],
      "collapsed_sections": [],
      "include_colab_link": true
    }
  },
  "cells": [
    {
      "cell_type": "markdown",
      "metadata": {
        "id": "view-in-github",
        "colab_type": "text"
      },
      "source": [
        "<a href=\"https://colab.research.google.com/github/psalms24/MySQL/blob/main/analysis_of_gun_deaths_in_the_united_states_2012_2014.ipynb\" target=\"_parent\"><img src=\"https://colab.research.google.com/assets/colab-badge.svg\" alt=\"Open In Colab\"/></a>"
      ]
    },
    {
      "cell_type": "markdown",
      "metadata": {
        "id": "NW5UTSlvhOS9"
      },
      "source": [
        "# Exploratory Data Analysis of gun deaths in the United States between 2012-2014"
      ]
    },
    {
      "cell_type": "markdown",
      "metadata": {
        "id": "Mq76q9zqh3aM"
      },
      "source": [
        "### Connecting colab to Jovian and kaggle to load dataset\n",
        "\n",
        "\n"
      ]
    },
    {
      "cell_type": "code",
      "metadata": {
        "colab": {
          "base_uri": "https://localhost:8080/"
        },
        "id": "tZV3DKP4bVEI",
        "outputId": "677e8d1f-02a9-493d-fc1e-c5f4b24f6316"
      },
      "source": [
        "# Jovian Commit Essentials\n",
        "# Please retain and execute this cell without modifying the contents for `jovian.commit` to work\n",
        "!pip install jovian --upgrade -q\n",
        "import jovian\n",
        "jovian.set_project('analysis-of-gun-deaths-in-the-united-states-2012-2014')\n",
        "jovian.set_colab_id('1B0rCys2129dwe6bjk5rgGIzjGeerQ1Jf')"
      ],
      "execution_count": null,
      "outputs": [
        {
          "output_type": "stream",
          "name": "stdout",
          "text": [
            "\u001b[?25l\r\u001b[K     |████▊                           | 10 kB 21.3 MB/s eta 0:00:01\r\u001b[K     |█████████▌                      | 20 kB 26.2 MB/s eta 0:00:01\r\u001b[K     |██████████████▎                 | 30 kB 12.5 MB/s eta 0:00:01\r\u001b[K     |███████████████████             | 40 kB 9.9 MB/s eta 0:00:01\r\u001b[K     |███████████████████████▉        | 51 kB 5.5 MB/s eta 0:00:01\r\u001b[K     |████████████████████████████▋   | 61 kB 6.1 MB/s eta 0:00:01\r\u001b[K     |████████████████████████████████| 68 kB 3.4 MB/s \n",
            "\u001b[?25h  Building wheel for uuid (setup.py) ... \u001b[?25l\u001b[?25hdone\n"
          ]
        }
      ]
    },
    {
      "cell_type": "code",
      "metadata": {
        "id": "8SM_UXyabVEN"
      },
      "source": [
        "!pip install jovian --upgrade --quiet"
      ],
      "execution_count": null,
      "outputs": []
    },
    {
      "cell_type": "code",
      "metadata": {
        "id": "51lpYOSlcbZ_"
      },
      "source": [
        "pip install opendatasets --upgrade --quiet\n"
      ],
      "execution_count": null,
      "outputs": []
    },
    {
      "cell_type": "code",
      "metadata": {
        "colab": {
          "base_uri": "https://localhost:8080/"
        },
        "id": "ynSOGRlocli4",
        "outputId": "b0eea8e2-40e6-482d-f300-8ab14d643a2b"
      },
      "source": [
        "import opendatasets as od\n",
        "\n",
        "download_url =\"https://www.kaggle.com/hakabuk/gun-deaths-in-the-us\"\n",
        "\n",
        "od.download(download_url)"
      ],
      "execution_count": null,
      "outputs": [
        {
          "output_type": "stream",
          "name": "stdout",
          "text": [
            "Please provide your Kaggle credentials to download this dataset. Learn more: http://bit.ly/kaggle-creds\n",
            "Your Kaggle username: adigunoluwaseun\n",
            "Your Kaggle Key: ··········\n",
            "Downloading gun-deaths-in-the-us.zip to ./gun-deaths-in-the-us\n"
          ]
        },
        {
          "output_type": "stream",
          "name": "stderr",
          "text": [
            "100%|██████████| 715k/715k [00:00<00:00, 102MB/s]"
          ]
        },
        {
          "output_type": "stream",
          "name": "stdout",
          "text": [
            "\n"
          ]
        },
        {
          "output_type": "stream",
          "name": "stderr",
          "text": [
            "\n"
          ]
        }
      ]
    },
    {
      "cell_type": "markdown",
      "metadata": {
        "id": "Dn1HaFp1f-3y"
      },
      "source": [
        "# Background Information\n",
        "\n",
        "This dataset includes information about gun-death in the US in the years 2012-2014.\n",
        "\n",
        "The data includes data regarding the victim's age, sex, race, education, intent, \n",
        "time (month and year) and place of death, and whether or not police was at the place of death."
      ]
    },
    {
      "cell_type": "code",
      "metadata": {
        "id": "z5m3tKtHdnO_"
      },
      "source": [
        "data_filename = \"./gun-deaths-in-the-us/guns.csv\"\n"
      ],
      "execution_count": null,
      "outputs": []
    },
    {
      "cell_type": "markdown",
      "metadata": {
        "id": "Jvl87DLigVst"
      },
      "source": [
        "# Question to explore\n",
        "\n",
        "1: How many males and females are included in this study?\n",
        " \n",
        " 2: How many educated females are included in this study?\n",
        " \n",
        " 3: What is the number of suicide gun deaths by gender in the United States from 2012 to 2014, by gender?\n",
        " \n",
        " 4: What is the number of gun deaths by race in the United States per 100,000 people from 2012 to 2014?\n",
        " \n",
        " 5: What is the number of gun deaths in the United States on average from 2012 to 2014, by cause?\n",
        " \n",
        " 6: What is the percentage per 100,000 people of annual gun deaths in the United States from 2012 to 2014, by cause?\n",
        " \n",
        " 7: What is the percentage of suicide gun deaths in the United States from 2012 to 2014, by year?\n",
        " \n",
        " 8: How would you classify death cause by gender?\n",
        " \n",
        " 9: What is the age distribution of death by gun in the US between 2012-2014?\n",
        " \n",
        " 10: Which 5 locations have the highest numbers of gun death in the US between 2012-2014, and what are the leading intents in those locations?"
      ]
    },
    {
      "cell_type": "markdown",
      "metadata": {
        "id": "K4LAYtOZg9FG"
      },
      "source": [
        "# Data Analysis"
      ]
    },
    {
      "cell_type": "code",
      "metadata": {
        "id": "Yl8EKpd7ezCp"
      },
      "source": [
        "import pandas as pd\n",
        "import numpy as np\n",
        "import matplotlib.pyplot as plt\n",
        "import seaborn as sns\n",
        "sns.set(style='white', color_codes=True)\n",
        "\n",
        "%matplotlib inline"
      ],
      "execution_count": null,
      "outputs": []
    },
    {
      "cell_type": "code",
      "metadata": {
        "id": "CxyOjcuue3vh"
      },
      "source": [
        "dataset = pd.read_csv(data_filename)"
      ],
      "execution_count": null,
      "outputs": []
    },
    {
      "cell_type": "markdown",
      "metadata": {
        "id": "wnZaZcUyiR4F"
      },
      "source": [
        "## Viewing the dataset (top five rows)"
      ]
    },
    {
      "cell_type": "code",
      "metadata": {
        "colab": {
          "base_uri": "https://localhost:8080/",
          "height": 250
        },
        "id": "a2zggopzfdTs",
        "outputId": "aacc1dc8-ef70-44bb-9f7c-37b113a3d94c"
      },
      "source": [
        "print(dataset.shape)\n",
        "dataset.index.name = 'Index'\n",
        "dataset.columns = map(str.capitalize, dataset.columns)\n",
        "dataset.head(5)"
      ],
      "execution_count": null,
      "outputs": [
        {
          "output_type": "stream",
          "name": "stdout",
          "text": [
            "(100798, 11)\n"
          ]
        },
        {
          "output_type": "execute_result",
          "data": {
            "text/html": [
              "<div>\n",
              "<style scoped>\n",
              "    .dataframe tbody tr th:only-of-type {\n",
              "        vertical-align: middle;\n",
              "    }\n",
              "\n",
              "    .dataframe tbody tr th {\n",
              "        vertical-align: top;\n",
              "    }\n",
              "\n",
              "    .dataframe thead th {\n",
              "        text-align: right;\n",
              "    }\n",
              "</style>\n",
              "<table border=\"1\" class=\"dataframe\">\n",
              "  <thead>\n",
              "    <tr style=\"text-align: right;\">\n",
              "      <th></th>\n",
              "      <th>Unnamed: 0</th>\n",
              "      <th>Year</th>\n",
              "      <th>Month</th>\n",
              "      <th>Intent</th>\n",
              "      <th>Police</th>\n",
              "      <th>Sex</th>\n",
              "      <th>Age</th>\n",
              "      <th>Race</th>\n",
              "      <th>Hispanic</th>\n",
              "      <th>Place</th>\n",
              "      <th>Education</th>\n",
              "    </tr>\n",
              "    <tr>\n",
              "      <th>Index</th>\n",
              "      <th></th>\n",
              "      <th></th>\n",
              "      <th></th>\n",
              "      <th></th>\n",
              "      <th></th>\n",
              "      <th></th>\n",
              "      <th></th>\n",
              "      <th></th>\n",
              "      <th></th>\n",
              "      <th></th>\n",
              "      <th></th>\n",
              "    </tr>\n",
              "  </thead>\n",
              "  <tbody>\n",
              "    <tr>\n",
              "      <th>0</th>\n",
              "      <td>1</td>\n",
              "      <td>2012</td>\n",
              "      <td>1</td>\n",
              "      <td>Suicide</td>\n",
              "      <td>0</td>\n",
              "      <td>M</td>\n",
              "      <td>34.0</td>\n",
              "      <td>Asian/Pacific Islander</td>\n",
              "      <td>100</td>\n",
              "      <td>Home</td>\n",
              "      <td>4.0</td>\n",
              "    </tr>\n",
              "    <tr>\n",
              "      <th>1</th>\n",
              "      <td>2</td>\n",
              "      <td>2012</td>\n",
              "      <td>1</td>\n",
              "      <td>Suicide</td>\n",
              "      <td>0</td>\n",
              "      <td>F</td>\n",
              "      <td>21.0</td>\n",
              "      <td>White</td>\n",
              "      <td>100</td>\n",
              "      <td>Street</td>\n",
              "      <td>3.0</td>\n",
              "    </tr>\n",
              "    <tr>\n",
              "      <th>2</th>\n",
              "      <td>3</td>\n",
              "      <td>2012</td>\n",
              "      <td>1</td>\n",
              "      <td>Suicide</td>\n",
              "      <td>0</td>\n",
              "      <td>M</td>\n",
              "      <td>60.0</td>\n",
              "      <td>White</td>\n",
              "      <td>100</td>\n",
              "      <td>Other specified</td>\n",
              "      <td>4.0</td>\n",
              "    </tr>\n",
              "    <tr>\n",
              "      <th>3</th>\n",
              "      <td>4</td>\n",
              "      <td>2012</td>\n",
              "      <td>2</td>\n",
              "      <td>Suicide</td>\n",
              "      <td>0</td>\n",
              "      <td>M</td>\n",
              "      <td>64.0</td>\n",
              "      <td>White</td>\n",
              "      <td>100</td>\n",
              "      <td>Home</td>\n",
              "      <td>4.0</td>\n",
              "    </tr>\n",
              "    <tr>\n",
              "      <th>4</th>\n",
              "      <td>5</td>\n",
              "      <td>2012</td>\n",
              "      <td>2</td>\n",
              "      <td>Suicide</td>\n",
              "      <td>0</td>\n",
              "      <td>M</td>\n",
              "      <td>31.0</td>\n",
              "      <td>White</td>\n",
              "      <td>100</td>\n",
              "      <td>Other specified</td>\n",
              "      <td>2.0</td>\n",
              "    </tr>\n",
              "  </tbody>\n",
              "</table>\n",
              "</div>"
            ],
            "text/plain": [
              "       Unnamed: 0  Year  Month  ... Hispanic            Place Education\n",
              "Index                           ...                                    \n",
              "0               1  2012      1  ...      100             Home       4.0\n",
              "1               2  2012      1  ...      100           Street       3.0\n",
              "2               3  2012      1  ...      100  Other specified       4.0\n",
              "3               4  2012      2  ...      100             Home       4.0\n",
              "4               5  2012      2  ...      100  Other specified       2.0\n",
              "\n",
              "[5 rows x 11 columns]"
            ]
          },
          "metadata": {},
          "execution_count": 8
        }
      ]
    },
    {
      "cell_type": "markdown",
      "metadata": {
        "id": "XCVejJXzirLB"
      },
      "source": [
        "## To have an overview of the dataset"
      ]
    },
    {
      "cell_type": "code",
      "metadata": {
        "colab": {
          "base_uri": "https://localhost:8080/",
          "height": 295
        },
        "id": "cD1x6VzufdSJ",
        "outputId": "6fef56ad-49fc-4542-e8fe-0448e4131be0"
      },
      "source": [
        "dataset.describe()"
      ],
      "execution_count": null,
      "outputs": [
        {
          "output_type": "execute_result",
          "data": {
            "text/html": [
              "<div>\n",
              "<style scoped>\n",
              "    .dataframe tbody tr th:only-of-type {\n",
              "        vertical-align: middle;\n",
              "    }\n",
              "\n",
              "    .dataframe tbody tr th {\n",
              "        vertical-align: top;\n",
              "    }\n",
              "\n",
              "    .dataframe thead th {\n",
              "        text-align: right;\n",
              "    }\n",
              "</style>\n",
              "<table border=\"1\" class=\"dataframe\">\n",
              "  <thead>\n",
              "    <tr style=\"text-align: right;\">\n",
              "      <th></th>\n",
              "      <th>Unnamed: 0</th>\n",
              "      <th>Year</th>\n",
              "      <th>Month</th>\n",
              "      <th>Police</th>\n",
              "      <th>Age</th>\n",
              "      <th>Hispanic</th>\n",
              "      <th>Education</th>\n",
              "    </tr>\n",
              "  </thead>\n",
              "  <tbody>\n",
              "    <tr>\n",
              "      <th>count</th>\n",
              "      <td>100798.000000</td>\n",
              "      <td>100798.000000</td>\n",
              "      <td>100798.000000</td>\n",
              "      <td>100798.000000</td>\n",
              "      <td>100780.000000</td>\n",
              "      <td>100798.000000</td>\n",
              "      <td>100745.000000</td>\n",
              "    </tr>\n",
              "    <tr>\n",
              "      <th>mean</th>\n",
              "      <td>50399.500000</td>\n",
              "      <td>2013.000357</td>\n",
              "      <td>6.567601</td>\n",
              "      <td>0.013909</td>\n",
              "      <td>43.857601</td>\n",
              "      <td>114.179607</td>\n",
              "      <td>2.296352</td>\n",
              "    </tr>\n",
              "    <tr>\n",
              "      <th>std</th>\n",
              "      <td>29098.020554</td>\n",
              "      <td>0.816278</td>\n",
              "      <td>3.405609</td>\n",
              "      <td>0.117114</td>\n",
              "      <td>19.496181</td>\n",
              "      <td>61.595734</td>\n",
              "      <td>0.990105</td>\n",
              "    </tr>\n",
              "    <tr>\n",
              "      <th>min</th>\n",
              "      <td>1.000000</td>\n",
              "      <td>2012.000000</td>\n",
              "      <td>1.000000</td>\n",
              "      <td>0.000000</td>\n",
              "      <td>0.000000</td>\n",
              "      <td>100.000000</td>\n",
              "      <td>1.000000</td>\n",
              "    </tr>\n",
              "    <tr>\n",
              "      <th>25%</th>\n",
              "      <td>25200.250000</td>\n",
              "      <td>2012.000000</td>\n",
              "      <td>4.000000</td>\n",
              "      <td>0.000000</td>\n",
              "      <td>27.000000</td>\n",
              "      <td>100.000000</td>\n",
              "      <td>2.000000</td>\n",
              "    </tr>\n",
              "    <tr>\n",
              "      <th>50%</th>\n",
              "      <td>50399.500000</td>\n",
              "      <td>2013.000000</td>\n",
              "      <td>7.000000</td>\n",
              "      <td>0.000000</td>\n",
              "      <td>42.000000</td>\n",
              "      <td>100.000000</td>\n",
              "      <td>2.000000</td>\n",
              "    </tr>\n",
              "    <tr>\n",
              "      <th>75%</th>\n",
              "      <td>75598.750000</td>\n",
              "      <td>2014.000000</td>\n",
              "      <td>9.000000</td>\n",
              "      <td>0.000000</td>\n",
              "      <td>58.000000</td>\n",
              "      <td>100.000000</td>\n",
              "      <td>3.000000</td>\n",
              "    </tr>\n",
              "    <tr>\n",
              "      <th>max</th>\n",
              "      <td>100798.000000</td>\n",
              "      <td>2014.000000</td>\n",
              "      <td>12.000000</td>\n",
              "      <td>1.000000</td>\n",
              "      <td>107.000000</td>\n",
              "      <td>998.000000</td>\n",
              "      <td>5.000000</td>\n",
              "    </tr>\n",
              "  </tbody>\n",
              "</table>\n",
              "</div>"
            ],
            "text/plain": [
              "          Unnamed: 0           Year  ...       Hispanic      Education\n",
              "count  100798.000000  100798.000000  ...  100798.000000  100745.000000\n",
              "mean    50399.500000    2013.000357  ...     114.179607       2.296352\n",
              "std     29098.020554       0.816278  ...      61.595734       0.990105\n",
              "min         1.000000    2012.000000  ...     100.000000       1.000000\n",
              "25%     25200.250000    2012.000000  ...     100.000000       2.000000\n",
              "50%     50399.500000    2013.000000  ...     100.000000       2.000000\n",
              "75%     75598.750000    2014.000000  ...     100.000000       3.000000\n",
              "max    100798.000000    2014.000000  ...     998.000000       5.000000\n",
              "\n",
              "[8 rows x 7 columns]"
            ]
          },
          "metadata": {},
          "execution_count": 9
        }
      ]
    },
    {
      "cell_type": "markdown",
      "metadata": {
        "id": "e_Oj2CQzjBUl"
      },
      "source": [
        "#### Key observation from the dataset: From the age column, this data shows that at least a baby(<1) and a senior(>100) is involved in gun death in the US"
      ]
    },
    {
      "cell_type": "markdown",
      "metadata": {
        "id": "QFkHdXSij4qW"
      },
      "source": [
        "## To organize the dataset by year and then by month."
      ]
    },
    {
      "cell_type": "code",
      "metadata": {
        "id": "lmKoabxNfdHC"
      },
      "source": [
        "df_Gun = dataset\n",
        "df_Gun.sort_values(['Year', 'Month'], inplace=True)"
      ],
      "execution_count": 10,
      "outputs": []
    },
    {
      "cell_type": "markdown",
      "metadata": {
        "id": "s9fB7UfDkQdn"
      },
      "source": [
        "## Finding the percentage of mixing data"
      ]
    },
    {
      "cell_type": "code",
      "metadata": {
        "colab": {
          "base_uri": "https://localhost:8080/"
        },
        "id": "FrapIWRlkO2n",
        "outputId": "b241b3f9-6bc1-41b9-d143-c251dc2b4703"
      },
      "source": [
        "missing_values = df_Gun.isna().sum().sort_values(ascending = False) / len(df_Gun)\n",
        "missing_values"
      ],
      "execution_count": 11,
      "outputs": [
        {
          "output_type": "execute_result",
          "data": {
            "text/plain": [
              "Place         0.013730\n",
              "Education     0.000526\n",
              "Age           0.000179\n",
              "Intent        0.000010\n",
              "Hispanic      0.000000\n",
              "Race          0.000000\n",
              "Sex           0.000000\n",
              "Police        0.000000\n",
              "Month         0.000000\n",
              "Year          0.000000\n",
              "Unnamed: 0    0.000000\n",
              "dtype: float64"
            ]
          },
          "metadata": {},
          "execution_count": 11
        }
      ]
    },
    {
      "cell_type": "markdown",
      "metadata": {
        "id": "McBMuVS8kmgF"
      },
      "source": [
        "### The percentage of missing data in this dataset is too negligible for reasonable replacement. Therefore we can proceed with our analysis"
      ]
    },
    {
      "cell_type": "markdown",
      "metadata": {
        "id": "Du4tbpaTk62q"
      },
      "source": [
        "## Question 1: How many males and females are included in this study?\n",
        "## Answer:"
      ]
    },
    {
      "cell_type": "code",
      "metadata": {
        "id": "CLQ1iBTFfdFf",
        "colab": {
          "base_uri": "https://localhost:8080/"
        },
        "outputId": "8bf5546d-3e57-4b8d-aecf-dcb9d57cbb70"
      },
      "source": [
        "df_Gun.Sex.value_counts(normalize=False)"
      ],
      "execution_count": 12,
      "outputs": [
        {
          "output_type": "execute_result",
          "data": {
            "text/plain": [
              "M    86349\n",
              "F    14449\n",
              "Name: Sex, dtype: int64"
            ]
          },
          "metadata": {},
          "execution_count": 12
        }
      ]
    },
    {
      "cell_type": "code",
      "metadata": {
        "colab": {
          "base_uri": "https://localhost:8080/",
          "height": 302
        },
        "id": "mfztvlyolZpc",
        "outputId": "2d07689f-6c0b-41db-8a66-4e0630e8dd57"
      },
      "source": [
        "sns.set_style(\"whitegrid\")\n",
        "sns.countplot(x=\"Sex\", data=df_Gun)"
      ],
      "execution_count": 13,
      "outputs": [
        {
          "output_type": "execute_result",
          "data": {
            "text/plain": [
              "<matplotlib.axes._subplots.AxesSubplot at 0x7fd3d651c310>"
            ]
          },
          "metadata": {},
          "execution_count": 13
        },
        {
          "output_type": "display_data",
          "data": {
            "image/png": "[encoded data removed]",
            "text/plain": [
              "<Figure size 432x288 with 1 Axes>"
            ]
          },
          "metadata": {}
        }
      ]
    },
    {
      "cell_type": "markdown",
      "metadata": {
        "id": "uHqH4U1YloBm"
      },
      "source": [
        "## Question 2: How many educated females are included in this study?\n",
        "## Answer: "
      ]
    },
    {
      "cell_type": "code",
      "metadata": {
        "id": "ANHs44WcfdBg",
        "colab": {
          "base_uri": "https://localhost:8080/",
          "height": 142
        },
        "outputId": "6be35665-6c1d-414f-9801-f9bcb41d7eb7"
      },
      "source": [
        "df_byGender = df_Gun.groupby('Sex').count()\n",
        "df_byGender"
      ],
      "execution_count": 14,
      "outputs": [
        {
          "output_type": "execute_result",
          "data": {
            "text/html": [
              "<div>\n",
              "<style scoped>\n",
              "    .dataframe tbody tr th:only-of-type {\n",
              "        vertical-align: middle;\n",
              "    }\n",
              "\n",
              "    .dataframe tbody tr th {\n",
              "        vertical-align: top;\n",
              "    }\n",
              "\n",
              "    .dataframe thead th {\n",
              "        text-align: right;\n",
              "    }\n",
              "</style>\n",
              "<table border=\"1\" class=\"dataframe\">\n",
              "  <thead>\n",
              "    <tr style=\"text-align: right;\">\n",
              "      <th></th>\n",
              "      <th>Unnamed: 0</th>\n",
              "      <th>Year</th>\n",
              "      <th>Month</th>\n",
              "      <th>Intent</th>\n",
              "      <th>Police</th>\n",
              "      <th>Age</th>\n",
              "      <th>Race</th>\n",
              "      <th>Hispanic</th>\n",
              "      <th>Place</th>\n",
              "      <th>Education</th>\n",
              "    </tr>\n",
              "    <tr>\n",
              "      <th>Sex</th>\n",
              "      <th></th>\n",
              "      <th></th>\n",
              "      <th></th>\n",
              "      <th></th>\n",
              "      <th></th>\n",
              "      <th></th>\n",
              "      <th></th>\n",
              "      <th></th>\n",
              "      <th></th>\n",
              "      <th></th>\n",
              "    </tr>\n",
              "  </thead>\n",
              "  <tbody>\n",
              "    <tr>\n",
              "      <th>F</th>\n",
              "      <td>14449</td>\n",
              "      <td>14449</td>\n",
              "      <td>14449</td>\n",
              "      <td>14449</td>\n",
              "      <td>14449</td>\n",
              "      <td>14446</td>\n",
              "      <td>14449</td>\n",
              "      <td>14449</td>\n",
              "      <td>14386</td>\n",
              "      <td>14430</td>\n",
              "    </tr>\n",
              "    <tr>\n",
              "      <th>M</th>\n",
              "      <td>86349</td>\n",
              "      <td>86349</td>\n",
              "      <td>86349</td>\n",
              "      <td>86348</td>\n",
              "      <td>86349</td>\n",
              "      <td>86334</td>\n",
              "      <td>86349</td>\n",
              "      <td>86349</td>\n",
              "      <td>85028</td>\n",
              "      <td>86315</td>\n",
              "    </tr>\n",
              "  </tbody>\n",
              "</table>\n",
              "</div>"
            ],
            "text/plain": [
              "     Unnamed: 0   Year  Month  Intent  ...   Race  Hispanic  Place  Education\n",
              "Sex                                    ...                                   \n",
              "F         14449  14449  14449   14449  ...  14449     14449  14386      14430\n",
              "M         86349  86349  86349   86348  ...  86349     86349  85028      86315\n",
              "\n",
              "[2 rows x 10 columns]"
            ]
          },
          "metadata": {},
          "execution_count": 14
        }
      ]
    },
    {
      "cell_type": "markdown",
      "metadata": {
        "id": "L0hJtiWEl-Ub"
      },
      "source": [
        "## Question 3: What is the number of suicide gun deaths by gender in the United States from 2012 to 2014, by gender?\n",
        "## Answer: "
      ]
    },
    {
      "cell_type": "code",
      "metadata": {
        "colab": {
          "base_uri": "https://localhost:8080/",
          "height": 315
        },
        "id": "ceKACU3Yl5Vh",
        "outputId": "49a64d90-3d0c-4492-dedf-81add0635c15"
      },
      "source": [
        "df_suicide_Gender =df_Gun[df_Gun[\"Intent\"] ==\"Suicide\"]\n",
        "df_suicide_Gender.Sex.value_counts(normalize=False).plot.bar(title='Annual U.S.\\\\suicide gun deaths \\n 2012-2014, by gender')"
      ],
      "execution_count": 15,
      "outputs": [
        {
          "output_type": "execute_result",
          "data": {
            "text/plain": [
              "<matplotlib.axes._subplots.AxesSubplot at 0x7fd3d4d42610>"
            ]
          },
          "metadata": {},
          "execution_count": 15
        },
        {
          "output_type": "display_data",
          "data": {
            "image/png": "[encoded data removed]",
            "text/plain": [
              "<Figure size 432x288 with 1 Axes>"
            ]
          },
          "metadata": {}
        }
      ]
    },
    {
      "cell_type": "code",
      "metadata": {
        "colab": {
          "base_uri": "https://localhost:8080/",
          "height": 332
        },
        "id": "TIREkfK6m0h5",
        "outputId": "a9604135-98c9-4a39-edbe-fd09a046427e"
      },
      "source": [
        "df_byGender = df_Gun.groupby('Sex').count()\n",
        "df_byGender.plot.bar(title='Annual U.S. suicide gun deaths \\n 2012-2014, by gender')"
      ],
      "execution_count": 16,
      "outputs": [
        {
          "output_type": "execute_result",
          "data": {
            "text/plain": [
              "<matplotlib.axes._subplots.AxesSubplot at 0x7fd3d4cb46d0>"
            ]
          },
          "metadata": {},
          "execution_count": 16
        },
        {
          "output_type": "display_data",
          "data": {
            "image/png": "[encoded data removed]",
            "text/plain": [
              "<Figure size 432x288 with 1 Axes>"
            ]
          },
          "metadata": {}
        }
      ]
    },
    {
      "cell_type": "markdown",
      "metadata": {
        "id": "p76KxMAnmbhC"
      },
      "source": [
        "#### There are huge differences between males and females. The number of male suicides by gun is above 50,000, while the female death rate is below 10,000, which shows how males are more likely to commit suicide using a gun than females."
      ]
    },
    {
      "cell_type": "markdown",
      "metadata": {
        "id": "s4Zq7OiNm912"
      },
      "source": [
        "## Question 4: What is the number of gun deaths by race in the United States per 100,000 people from 2012 to 2014?\n",
        "## Answer:"
      ]
    },
    {
      "cell_type": "code",
      "metadata": {
        "colab": {
          "base_uri": "https://localhost:8080/"
        },
        "id": "0i_pbm4Hl4-t",
        "outputId": "e7a4862e-92d7-4682-d108-151f0a6695f6"
      },
      "source": [
        "df_byRace = df_Gun\n",
        "(df_byRace.Race.value_counts(ascending=False)*100/100000)"
      ],
      "execution_count": 17,
      "outputs": [
        {
          "output_type": "execute_result",
          "data": {
            "text/plain": [
              "White                             66.237\n",
              "Black                             23.296\n",
              "Hispanic                           9.022\n",
              "Asian/Pacific Islander             1.326\n",
              "Native American/Native Alaskan     0.917\n",
              "Name: Race, dtype: float64"
            ]
          },
          "metadata": {},
          "execution_count": 17
        }
      ]
    },
    {
      "cell_type": "code",
      "metadata": {
        "colab": {
          "base_uri": "https://localhost:8080/",
          "height": 484
        },
        "id": "kFe4UqY4l41u",
        "outputId": "e2317e7a-2b4d-437a-b859-0a6509deef56"
      },
      "source": [
        "(df_byRace.Race.value_counts(ascending=True)*100/100000).plot.bar(title='Percent death toll from guns in the United States \\nfrom 2012 to 2014, by race')"
      ],
      "execution_count": 18,
      "outputs": [
        {
          "output_type": "execute_result",
          "data": {
            "text/plain": [
              "<matplotlib.axes._subplots.AxesSubplot at 0x7fd3d4b9c090>"
            ]
          },
          "metadata": {},
          "execution_count": 18
        },
        {
          "output_type": "display_data",
          "data": {
            "image/png": "[encoded data removed]",
            "text/plain": [
              "<Figure size 432x288 with 1 Axes>"
            ]
          },
          "metadata": {}
        }
      ]
    },
    {
      "cell_type": "markdown",
      "metadata": {
        "id": "Q0rFA5W0nZif"
      },
      "source": [
        "#### The highest death rate was for white people, then black, and then Hispanic. There are a few other races listed, but the rates are small comparatively."
      ]
    },
    {
      "cell_type": "markdown",
      "metadata": {
        "id": "ENlxbAULnpNb"
      },
      "source": [
        "## Question 5: What is the number of gun deaths in the United States on average from 2012 to 2014, by cause?\n",
        "## Answer:"
      ]
    },
    {
      "cell_type": "code",
      "metadata": {
        "colab": {
          "base_uri": "https://localhost:8080/"
        },
        "id": "P4weUS12l4rc",
        "outputId": "fddf91f5-e6a7-4f3d-b6a0-f4722140fbf3"
      },
      "source": [
        "df_byRace.Intent.value_counts(sort =True, ascending=False)"
      ],
      "execution_count": 19,
      "outputs": [
        {
          "output_type": "execute_result",
          "data": {
            "text/plain": [
              "Suicide         63175\n",
              "Homicide        35176\n",
              "Accidental       1639\n",
              "Undetermined      807\n",
              "Name: Intent, dtype: int64"
            ]
          },
          "metadata": {},
          "execution_count": 19
        }
      ]
    },
    {
      "cell_type": "code",
      "metadata": {
        "colab": {
          "base_uri": "https://localhost:8080/",
          "height": 385
        },
        "id": "VjxqvVuQniKO",
        "outputId": "5ce890fe-1d57-49a1-d0c8-3087a8280eca"
      },
      "source": [
        "df_byRace.Intent.value_counts(sort=True).plot.bar(title='Annual number of gun deaths in the United States on average \\n from 2012 to 2014, by cause')"
      ],
      "execution_count": 20,
      "outputs": [
        {
          "output_type": "execute_result",
          "data": {
            "text/plain": [
              "<matplotlib.axes._subplots.AxesSubplot at 0x7fd3d4b61110>"
            ]
          },
          "metadata": {},
          "execution_count": 20
        },
        {
          "output_type": "display_data",
          "data": {
            "image/png": "[encoded data removed]",
            "text/plain": [
              "<Figure size 432x288 with 1 Axes>"
            ]
          },
          "metadata": {}
        }
      ]
    },
    {
      "cell_type": "markdown",
      "metadata": {
        "id": "4S9EskZGoFes"
      },
      "source": [
        "## Question 6: What is the percentage per 100,000 people of annual gun deaths in the United States from 2012 to 2014, by cause?\n",
        "## Answer: "
      ]
    },
    {
      "cell_type": "code",
      "metadata": {
        "colab": {
          "base_uri": "https://localhost:8080/"
        },
        "id": "3mjuAsV_nh_T",
        "outputId": "c114ee1a-ed11-401a-83ab-d5deb445e9da"
      },
      "source": [
        "df_byRace.Intent.value_counts(ascending=False)*100/100000"
      ],
      "execution_count": 21,
      "outputs": [
        {
          "output_type": "execute_result",
          "data": {
            "text/plain": [
              "Suicide         63.175\n",
              "Homicide        35.176\n",
              "Accidental       1.639\n",
              "Undetermined     0.807\n",
              "Name: Intent, dtype: float64"
            ]
          },
          "metadata": {},
          "execution_count": 21
        }
      ]
    },
    {
      "cell_type": "code",
      "metadata": {
        "colab": {
          "base_uri": "https://localhost:8080/",
          "height": 385
        },
        "id": "jfyxh_Krnhxv",
        "outputId": "a30c44e5-da5a-4347-af99-6811bc33e32b"
      },
      "source": [
        "(df_byRace.Intent.value_counts(ascending=False)\n",
        "*100/100000).plot.bar(title='Rate gun deaths in the U.S. per 100,000 population \\n2012-2014, by race')"
      ],
      "execution_count": 22,
      "outputs": [
        {
          "output_type": "execute_result",
          "data": {
            "text/plain": [
              "<matplotlib.axes._subplots.AxesSubplot at 0x7fd3d4afdd50>"
            ]
          },
          "metadata": {},
          "execution_count": 22
        },
        {
          "output_type": "display_data",
          "data": {
            "image/png": "[encoded data removed]",
            "text/plain": [
              "<Figure size 432x288 with 1 Axes>"
            ]
          },
          "metadata": {}
        }
      ]
    },
    {
      "cell_type": "markdown",
      "metadata": {
        "id": "i-KJ_S8JodY3"
      },
      "source": [
        "#### There are 60 suicide cases for every 100,000 people. In addition, there are 30 homicide cases for every 100,000."
      ]
    },
    {
      "cell_type": "markdown",
      "metadata": {
        "id": "FB7M82yBom6A"
      },
      "source": [
        "## Question 7: What is the percentage of suicide gun deaths in the United States from 2012 to 2014, by year?\n",
        "## Answer:"
      ]
    },
    {
      "cell_type": "code",
      "metadata": {
        "colab": {
          "base_uri": "https://localhost:8080/"
        },
        "id": "UhahshdFl4kL",
        "outputId": "cc72ac65-c6bb-480a-9b50-34c6bc58388e"
      },
      "source": [
        "df_suicide=df_Gun[ df_Gun[\"Intent\"]==\"Suicide\"]\n",
        "df_GunSuicide= df_suicide.Year.value_counts(ascending=False) *100/100000\n",
        "df_GunSuicide.sort_values(ascending=True)"
      ],
      "execution_count": 23,
      "outputs": [
        {
          "output_type": "execute_result",
          "data": {
            "text/plain": [
              "2012    20.666\n",
              "2013    21.175\n",
              "2014    21.334\n",
              "Name: Year, dtype: float64"
            ]
          },
          "metadata": {},
          "execution_count": 23
        }
      ]
    },
    {
      "cell_type": "code",
      "metadata": {
        "colab": {
          "base_uri": "https://localhost:8080/",
          "height": 334
        },
        "id": "YqlZlOzCl4cq",
        "outputId": "e0abf72e-8b17-4e82-c54f-13f3dd789d26"
      },
      "source": [
        "df_GunSuicide.sort_values(ascending=True).plot.bar(title='Percentage of annual suicide gun deaths in the United States \\nfrom 2012 to 2014, by year')"
      ],
      "execution_count": 24,
      "outputs": [
        {
          "output_type": "execute_result",
          "data": {
            "text/plain": [
              "<matplotlib.axes._subplots.AxesSubplot at 0x7fd3d4a7c690>"
            ]
          },
          "metadata": {},
          "execution_count": 24
        },
        {
          "output_type": "display_data",
          "data": {
            "image/png": "[encoded data removed]",
            "text/plain": [
              "<Figure size 432x288 with 1 Axes>"
            ]
          },
          "metadata": {}
        }
      ]
    },
    {
      "cell_type": "markdown",
      "metadata": {
        "id": "maGqDBdWo9DF"
      },
      "source": [
        "#### Almost the same number of suicides each year over three years, which means that this is a regular pattern."
      ]
    },
    {
      "cell_type": "markdown",
      "metadata": {
        "id": "1_Snz9hApFcU"
      },
      "source": [
        "## Question 8: How would you classify death cause by gender?\n",
        "## Answer:"
      ]
    },
    {
      "cell_type": "code",
      "metadata": {
        "colab": {
          "base_uri": "https://localhost:8080/",
          "height": 302
        },
        "id": "nTrmByMUl4Ts",
        "outputId": "ea3340ad-9177-467e-aa47-ce6fb84c295e"
      },
      "source": [
        "sns.set_style(\"whitegrid\")\n",
        "sns.countplot(x=\"Sex\", hue=\"Intent\", data=df_Gun, palette=\"rainbow\")"
      ],
      "execution_count": 25,
      "outputs": [
        {
          "output_type": "execute_result",
          "data": {
            "text/plain": [
              "<matplotlib.axes._subplots.AxesSubplot at 0x7fd3d49e1250>"
            ]
          },
          "metadata": {},
          "execution_count": 25
        },
        {
          "output_type": "display_data",
          "data": {
            "image/png": "[encoded data removed]",
            "text/plain": [
              "<Figure size 432x288 with 1 Axes>"
            ]
          },
          "metadata": {}
        }
      ]
    },
    {
      "cell_type": "markdown",
      "metadata": {
        "id": "BQ3JMNwNpWs-"
      },
      "source": [
        "#### The female have less than 10,000 suicide and homicide cases respectively, and less than 1,000 Accidental cases. This report shows that males are 5times more likely to commit suicide by gun in the US than Females."
      ]
    },
    {
      "cell_type": "markdown",
      "metadata": {
        "id": "r8Z4EX9zpjPJ"
      },
      "source": [
        "## Question 9: What is the age distribution of death by gun in the US between 2012-2014?\n",
        "## Answer:"
      ]
    },
    {
      "cell_type": "code",
      "metadata": {
        "colab": {
          "base_uri": "https://localhost:8080/",
          "height": 285
        },
        "id": "2234xmrUpfN3",
        "outputId": "bfafd63d-c18d-4428-de74-64be47b21777"
      },
      "source": [
        "df_Gun[\"Age\"].hist(bins=30, color=\"darkred\", alpha=0.3)"
      ],
      "execution_count": 26,
      "outputs": [
        {
          "output_type": "execute_result",
          "data": {
            "text/plain": [
              "<matplotlib.axes._subplots.AxesSubplot at 0x7fd3d4956490>"
            ]
          },
          "metadata": {},
          "execution_count": 26
        },
        {
          "output_type": "display_data",
          "data": {
            "image/png": "[encoded data removed]",
            "text/plain": [
              "<Figure size 432x288 with 1 Axes>"
            ]
          },
          "metadata": {}
        }
      ]
    },
    {
      "cell_type": "markdown",
      "metadata": {
        "id": "4GszhK6FpzbU"
      },
      "source": [
        "#### The report shows that most deaths by gun in the US range from the teenage age(18) to the sixties(60s) "
      ]
    },
    {
      "cell_type": "markdown",
      "metadata": {
        "id": "3XomNAF9p7zY"
      },
      "source": [
        "## Question 10: Which 5 locations have the highest numbers of gun death in the US between 2012-2014, and what are the leading intents in those locations?\n",
        "## Answer: "
      ]
    },
    {
      "cell_type": "code",
      "metadata": {
        "colab": {
          "base_uri": "https://localhost:8080/"
        },
        "id": "2eZg9IEhpe36",
        "outputId": "a95a6a2c-7a92-448f-df79-8b97b37e0999"
      },
      "source": [
        "df_byPlace = df_Gun\n",
        "(df_byPlace.Place.value_counts(ascending=False))"
      ],
      "execution_count": 27,
      "outputs": [
        {
          "output_type": "execute_result",
          "data": {
            "text/plain": [
              "Home                       60486\n",
              "Other specified            13751\n",
              "Street                     11151\n",
              "Other unspecified           8867\n",
              "Trade/service area          3439\n",
              "School/instiution            671\n",
              "Farm                         470\n",
              "Industrial/construction      248\n",
              "Residential institution      203\n",
              "Sports                       128\n",
              "Name: Place, dtype: int64"
            ]
          },
          "metadata": {},
          "execution_count": 27
        }
      ]
    },
    {
      "cell_type": "code",
      "metadata": {
        "colab": {
          "base_uri": "https://localhost:8080/",
          "height": 430
        },
        "id": "i7OFOou8perI",
        "outputId": "e28da9dd-0850-4c12-8bd8-dde6d498e53e"
      },
      "source": [
        "(df_byPlace.Place.value_counts(ascending=False)).plot.bar(title='Rate gun deaths in the U.S. \\n2012-2014, by Place of incidence')"
      ],
      "execution_count": 28,
      "outputs": [
        {
          "output_type": "execute_result",
          "data": {
            "text/plain": [
              "<matplotlib.axes._subplots.AxesSubplot at 0x7fd3d48a13d0>"
            ]
          },
          "metadata": {},
          "execution_count": 28
        },
        {
          "output_type": "display_data",
          "data": {
            "image/png": "[encoded data removed]",
            "text/plain": [
              "<Figure size 432x288 with 1 Axes>"
            ]
          },
          "metadata": {}
        }
      ]
    },
    {
      "cell_type": "markdown",
      "metadata": {
        "id": "Ez82EC5FqRXc"
      },
      "source": [
        "#### Home has the highest number of death by gun, followed by Other specified location, street and unspecified places.Trade and service area is 5th on the rank."
      ]
    },
    {
      "cell_type": "code",
      "metadata": {
        "colab": {
          "base_uri": "https://localhost:8080/",
          "height": 302
        },
        "id": "rM4w5lPgl4HS",
        "outputId": "c614c446-a821-4412-ebbe-7394b0958937"
      },
      "source": [
        "sns.set_style(\"whitegrid\")\n",
        "sns.countplot(x=\"Intent\", hue=\"Place\", data=df_Gun, palette=\"rainbow\")"
      ],
      "execution_count": 29,
      "outputs": [
        {
          "output_type": "execute_result",
          "data": {
            "text/plain": [
              "<matplotlib.axes._subplots.AxesSubplot at 0x7fd3d489cf50>"
            ]
          },
          "metadata": {},
          "execution_count": 29
        },
        {
          "output_type": "display_data",
          "data": {
            "image/png": "[encoded data removed]",
            "text/plain": [
              "<Figure size 432x288 with 1 Axes>"
            ]
          },
          "metadata": {}
        }
      ]
    },
    {
      "cell_type": "markdown",
      "metadata": {
        "id": "e3a5vykhqfZR"
      },
      "source": [
        "#### The report shows that most deaths by gun occurred at home (suicide was the leading intent) with over 40,000 cases followed by homicide with over 10,000 cases, then accident with over 1,000 cases. Street has a higher number of homicide cases than suicide. Street has close to 10,000 cases of homicide. Followed by other specified and unspecified locations."
      ]
    },
    {
      "cell_type": "markdown",
      "metadata": {
        "id": "UPnIZRFequSk"
      },
      "source": [
        "## Key Insights drawn from the report\n",
        "\n",
        "#### 1. This data shows that at least 5 babies(<=1) and seniors (>90) are involved in gun death in the US between 2012-2014.\n",
        "\n",
        "#### 2. Male suicide gun deaths is more than 50,000, while females suicide gun deaths is below 10,000, which shows how males are more likely to commit suicide with a gun than female. It reveals that males in the US are 5times more likely to commit suicide by gun than the females.\n",
        "\n",
        "#### 3. The highest number of deaths is for white people(almost 3times more than the black), followed by black, and then Hispanic.\n",
        "\n",
        "#### 4. There is a high number of suicide and homicide deaths compared to a low number of deaths due to accidents.\n",
        "\n",
        "#### 5. There are 60 suicide cases for every 100,000 people, which is not a high rate. In addition, there are 30 homicide cases for every 100,000 people.\n",
        "\n",
        "#### 6. The analysis shows almost the same number of suicides each year over a period of three years, which means that this is like a regular pattern in US.\n",
        "\n",
        "#### 7. The report shows that most deaths by gun in the US range from the teenage age(18) to the sixties(60s)  \n",
        "\n",
        "#### 8. Home has the highest number of death by gun, followed by Other specified location, street and unspecified places.Trade and service area is 5th on the rank. This explains why most suicide cases occur at home, perhaps due to the privacy it provides. However, Street has the higher number of homicide cases than suicide. \n"
      ]
    },
    {
      "cell_type": "code",
      "metadata": {
        "id": "LcRx0T6NfdAC"
      },
      "source": [
        ""
      ],
      "execution_count": null,
      "outputs": []
    },
    {
      "cell_type": "code",
      "metadata": {
        "id": "fMbCzswUbVEO"
      },
      "source": [
        "import jovian"
      ],
      "execution_count": 32,
      "outputs": []
    },
    {
      "cell_type": "code",
      "metadata": {
        "id": "IKhyK9OabVEO",
        "colab": {
          "base_uri": "https://localhost:8080/",
          "height": 86
        },
        "outputId": "c0e20cd9-144b-443e-9f5a-3b404e62f09e"
      },
      "source": [
        "# Execute this to save new versions of the notebook\n",
        "jovian.commit(project=\"analysis-of-gun-deaths-in-the-united-states-2012-2014\")"
      ],
      "execution_count": 33,
      "outputs": [
        {
          "output_type": "stream",
          "name": "stdout",
          "text": [
            "[jovian] Detected Colab notebook...\u001b[0m\n",
            "[jovian] Uploading colab notebook to Jovian...\u001b[0m\n",
            "Committed successfully! https://jovian.ai/oluwaseun-adigun/analysis-of-gun-deaths-in-the-united-states-2012-2014\n"
          ]
        },
        {
          "output_type": "execute_result",
          "data": {
            "application/vnd.google.colaboratory.intrinsic+json": {
              "type": "string"
            },
            "text/plain": [
              "'https://jovian.ai/oluwaseun-adigun/analysis-of-gun-deaths-in-the-united-states-2012-2014'"
            ]
          },
          "metadata": {},
          "execution_count": 33
        }
      ]
    },
    {
      "cell_type": "code",
      "metadata": {
        "id": "g6OsiRcFbVEP"
      },
      "source": [
        ""
      ],
      "execution_count": null,
      "outputs": []
    }
  ]
}